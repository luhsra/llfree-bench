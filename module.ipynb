{
 "cells": [
  {
   "cell_type": "code",
   "execution_count": null,
   "metadata": {},
   "outputs": [],
   "source": [
    "from pathlib import Path\n",
    "import pandas as pd\n",
    "import seaborn as sns\n",
    "\n",
    "sns.set_style(\"whitegrid\")\n",
    "sns.set_context(\"talk\", font_scale=1)\n",
    "sns.set_palette(\"colorblind\")\n",
    "\n",
    "nvalloc = Path(\"module/220826-153744\")\n",
    "buddy = Path(\"module/220826-153925\")\n"
   ]
  },
  {
   "cell_type": "code",
   "execution_count": null,
   "metadata": {},
   "outputs": [],
   "source": [
    "nvalloc_d = pd.read_csv(nvalloc / \"bulk\" / \"out.csv\")\n",
    "nvalloc_d[\"alloc\"] = \"NVAlloc\"\n",
    "buddy_d = pd.read_csv(buddy / \"bulk\" / \"out.csv\")\n",
    "\n",
    "pgd = pd.concat([nvalloc_d, buddy_d], ignore_index=True)\n",
    "pgd = pgd[pgd[\"iteration\"] != 0]\n",
    "pgd[\"cores\"] = pgd[\"x\"]\n",
    "pgd[\"get\"] = pgd[\"get_avg\"]\n",
    "pgd[\"put\"] = pgd[\"put_avg\"]\n",
    "pgd = pgd[[\"cores\", \"alloc\", \"get\", \"put\"]].melt(\n",
    "    id_vars=[\"cores\", \"alloc\"],\n",
    "    value_vars=[\"get\", \"put\"], value_name=\"time\")\n",
    "# pgd = pgd.groupby([\"cores\", \"alloc\", \"variable\", \"mem\"]).min()\n",
    "order = [\"Kernel\", \"NVAlloc\"]\n",
    "g = sns.relplot(data=pgd, kind=\"line\", x=\"cores\", y=\"time\",\n",
    "                col=\"variable\", style=\"alloc\", hue=\"alloc\", markers=True,\n",
    "                style_order=order, hue_order=order)\n",
    "g.set(xticks=[1, 16, 32, 48, 64])\n",
    "g.set(ylim=(0, 2700))\n",
    "g.legend.set_title(\"Allocator\")\n",
    "g.set(ylabel=\"time in ns\")\n",
    "g.set(xlabel=\"cores\")\n",
    "g.set_titles(\"{col_name}\")\n"
   ]
  },
  {
   "cell_type": "code",
   "execution_count": null,
   "metadata": {},
   "outputs": [],
   "source": [
    "nvalloc_d = pd.read_csv(nvalloc / \"repeat\" / \"out.csv\")\n",
    "nvalloc_d[\"alloc\"] = \"NVAlloc\"\n",
    "buddy_d = pd.read_csv(buddy / \"repeat\" / \"out.csv\")\n",
    "\n",
    "pgd = pd.concat([nvalloc_d, buddy_d], ignore_index=True)\n",
    "pgd = pgd[pgd[\"iteration\"] != 0]\n",
    "pgd[\"cores\"] = pgd[\"x\"]\n",
    "\n",
    "# data = data.groupby([\"cores\", \"alloc\", \"mem\"]).min()\n",
    "order = [\"Kernel\", \"NVAlloc\"]\n",
    "g = sns.relplot(data=pgd, x=\"x\", y=\"get_avg\", kind=\"line\",\n",
    "                style=\"alloc\", hue=\"alloc\", markers=True,\n",
    "                style_order=order, hue_order=order)\n",
    "\n",
    "g.set(xticks=[1, 16, 32, 48, 64])\n",
    "g.set(ylim=(0, 400))\n",
    "# g.set(xlim=(1, 17))\n",
    "g.legend.set_title(\"Allocator\")\n",
    "g.set(xlabel=\"cores\")\n",
    "g.set(ylabel=\"time in ns\")\n",
    "g.set_titles(\"{col_name}\")\n"
   ]
  },
  {
   "cell_type": "code",
   "execution_count": null,
   "metadata": {},
   "outputs": [],
   "source": [
    "nvalloc_d = pd.read_csv(nvalloc / \"rand\" / \"out.csv\")\n",
    "nvalloc_d[\"alloc\"] = \"NVAlloc\"\n",
    "buddy_d = pd.read_csv(buddy / \"rand\" / \"out.csv\")\n",
    "\n",
    "pgd = pd.concat([nvalloc_d, buddy_d], ignore_index=True)\n",
    "pgd[\"cores\"] = pgd[\"x\"]\n",
    "pgd = pgd[pgd[\"iteration\"] != 0]\n",
    "\n",
    "# data = data.groupby([\"cores\", \"alloc\", \"mem\"]).min()\n",
    "order = [\"Kernel\", \"NVAlloc\"]\n",
    "g = sns.relplot(data=pgd, x=\"x\", y=\"get_avg\", kind=\"line\",\n",
    "                style=\"alloc\", hue=\"alloc\", markers=True,\n",
    "                style_order=order, hue_order=order)\n",
    "\n",
    "g.set(xticks=[1, 16, 32, 48, 64])\n",
    "g.set(ylim=(0, 400))\n",
    "# g.set(xlim=(1, 17))\n",
    "g.legend.set_title(\"Allocator\")\n",
    "g.set(xlabel=\"cores\")\n",
    "g.set(ylabel=\"time in ns\")\n",
    "g.set_titles(\"{col_name}\")\n"
   ]
  }
 ],
 "metadata": {
  "kernelspec": {
   "display_name": "Python 3.10.4 64-bit",
   "language": "python",
   "name": "python3"
  },
  "language_info": {
   "codemirror_mode": {
    "name": "ipython",
    "version": 3
   },
   "file_extension": ".py",
   "mimetype": "text/x-python",
   "name": "python",
   "nbconvert_exporter": "python",
   "pygments_lexer": "ipython3",
   "version": "3.9.2"
  },
  "orig_nbformat": 4,
  "vscode": {
   "interpreter": {
    "hash": "31f2aee4e71d21fbe5cf8b01ff0e069b9275f58929596ceb00d14d90e3e16cd6"
   }
  }
 },
 "nbformat": 4,
 "nbformat_minor": 2
}
