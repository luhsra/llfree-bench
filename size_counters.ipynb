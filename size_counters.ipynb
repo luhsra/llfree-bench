{
 "cells": [
  {
   "cell_type": "code",
   "execution_count": 2,
   "metadata": {},
   "outputs": [],
   "source": [
    "import pandas as pd\n",
    "import seaborn as sns\n",
    "from pathlib import Path\n",
    "\n",
    "# dry = \"size_counters/220701-152907\"\n",
    "bench = Path(\"size_counters/220819-151202\")\n",
    "\n",
    "# in minutes\n",
    "times = [60]\n",
    "points = list(range(3))\n",
    "\n",
    "\n",
    "def diff(a: pd.DataFrame, b: pd.DataFrame) -> pd.DataFrame:\n",
    "    out = b.copy()\n",
    "    out[out.columns[2:]] -= a[a.columns[2:]]\n",
    "    return out\n",
    "\n",
    "\n",
    "def total(d: pd.DataFrame) -> pd.DataFrame:\n",
    "    return d.loc[:, d.columns != \"CPU\"].groupby([\"op\"]).sum()\n",
    "\n",
    "\n",
    "benches = [[pd.read_csv(bench / f\"t{t}\" / f\"t{p}.csv\")\n",
    "            for p in points] for t in times]\n"
   ]
  },
  {
   "cell_type": "code",
   "execution_count": 3,
   "metadata": {},
   "outputs": [
    {
     "name": "stdout",
     "output_type": "stream",
     "text": [
      "    bulk      0     1    2    3  4  5  6  7  8   9    10\n",
      "op                                                      \n",
      "a    597  72611  1236  701  292  8  2  3  4  1  10     0\n",
      "f      0  44128  1058   12   26  2  2  3  3  4   6  8022\n",
      "    bulk     0   1  2  3  4  5  6  7  8  9  10\n",
      "op                                            \n",
      "a     15  2538  34  3  9  0  0  0  0  0  1   0\n",
      "f      0  1656  29  0  4  0  0  0  0  0  0   0\n",
      "    bulk      0   1       2      3  4  5  6  7  8  9  10\n",
      "op                                                      \n",
      "a      9  84672  55  103712  71617  0  0  0  0  0  1   0\n",
      "f      0  87305  73  103692  71569  0  0  0  0  0  1   0\n"
     ]
    }
   ],
   "source": [
    "print(total(benches[0][0]))\n",
    "print(total(diff(benches[0][0], benches[0][1])))\n",
    "print(total(diff(benches[0][1], benches[0][2])))"
   ]
  },
  {
   "cell_type": "code",
   "execution_count": null,
   "metadata": {},
   "outputs": [],
   "source": [
    "print(total(benches[1][0]))\n",
    "print(total(diff(benches[1][0], benches[1][1])))\n",
    "print(total(diff(benches[1][1], benches[1][2])))"
   ]
  },
  {
   "cell_type": "code",
   "execution_count": null,
   "metadata": {},
   "outputs": [],
   "source": [
    "print(total(benches[2][0]))\n",
    "print(total(diff(benches[2][0], benches[2][1])))\n",
    "print(total(diff(benches[2][1], benches[2][2])))"
   ]
  },
  {
   "cell_type": "code",
   "execution_count": null,
   "metadata": {},
   "outputs": [],
   "source": [
    "print(total(benches[3][0]))\n",
    "print(total(diff(benches[3][0], benches[3][1])))\n",
    "print(total(diff(benches[3][1], benches[3][2])))"
   ]
  }
 ],
 "metadata": {
  "kernelspec": {
   "display_name": "Python 3.9.2 64-bit",
   "language": "python",
   "name": "python3"
  },
  "language_info": {
   "codemirror_mode": {
    "name": "ipython",
    "version": 3
   },
   "file_extension": ".py",
   "mimetype": "text/x-python",
   "name": "python",
   "nbconvert_exporter": "python",
   "pygments_lexer": "ipython3",
   "version": "3.10.4"
  },
  "orig_nbformat": 4,
  "vscode": {
   "interpreter": {
    "hash": "31f2aee4e71d21fbe5cf8b01ff0e069b9275f58929596ceb00d14d90e3e16cd6"
   }
  }
 },
 "nbformat": 4,
 "nbformat_minor": 2
}
