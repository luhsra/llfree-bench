{
 "cells": [
  {
   "cell_type": "code",
   "execution_count": null,
   "metadata": {},
   "outputs": [],
   "source": [
    "from pathlib import Path\n",
    "import pandas as pd\n",
    "import seaborn as sns\n",
    "\n",
    "sns.set_style(\"whitegrid\")\n",
    "sns.set_context(\"talk\", font_scale=1)\n",
    "sns.set_palette(\"colorblind\")\n",
    "\n",
    "nvalloc = Path(\"write/220826-145416\")\n",
    "buddy = Path(\"write/220826-151355\")\n"
   ]
  },
  {
   "cell_type": "code",
   "execution_count": null,
   "metadata": {},
   "outputs": [],
   "source": [
    "nvalloc_d = pd.read_csv(nvalloc / \"out.csv\")\n",
    "nvalloc_d[\"alloc\"] = \"NVAlloc\"\n",
    "buddy_d = pd.read_csv(buddy / \"out.csv\")\n",
    "buddy_d[\"alloc\"] = \"Kernel\"\n",
    "\n",
    "\n",
    "pgd = pd.concat([nvalloc_d, buddy_d], ignore_index=True)\n",
    "pgd[\"cores\"] = pgd[\"x\"]\n",
    "pgd = pgd[[\"cores\", \"alloc\", \"max\", \"unmap\", \"iteration\"]].melt(\n",
    "    id_vars=[\"cores\", \"alloc\", \"iteration\"],\n",
    "    value_vars=[\"max\", \"unmap\"], value_name=\"time\")\n",
    "# pgd = pgd.groupby([\"cores\", \"alloc\", \"variable\", \"mem\"]).min()\n",
    "order = [\"Kernel\", \"NVAlloc\"]\n",
    "g = sns.relplot(data=pgd, kind=\"line\", x=\"cores\", y=\"time\",\n",
    "                col=\"variable\", style=\"alloc\", hue=\"alloc\", markers=True,\n",
    "                style_order=order, hue_order=order)\n",
    "g.set(xticks=[1, 16, 32, 48, 64])\n",
    "g.set(ylim=(0, 30000))\n",
    "g.legend.set_title(\"Allocator\")\n",
    "g.set(ylabel=\"time in ns\")\n",
    "g.set(xlabel=\"cores\")\n",
    "g.set_titles(\"{col_name}\")\n"
   ]
  }
 ],
 "metadata": {
  "kernelspec": {
   "display_name": "Python 3.10.4 64-bit",
   "language": "python",
   "name": "python3"
  },
  "language_info": {
   "codemirror_mode": {
    "name": "ipython",
    "version": 3
   },
   "file_extension": ".py",
   "mimetype": "text/x-python",
   "name": "python",
   "nbconvert_exporter": "python",
   "pygments_lexer": "ipython3",
   "version": "3.10.4"
  },
  "orig_nbformat": 4,
  "vscode": {
   "interpreter": {
    "hash": "31f2aee4e71d21fbe5cf8b01ff0e069b9275f58929596ceb00d14d90e3e16cd6"
   }
  }
 },
 "nbformat": 4,
 "nbformat_minor": 2
}
